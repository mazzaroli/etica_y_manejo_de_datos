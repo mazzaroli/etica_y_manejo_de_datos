{
 "cells": [
  {
   "cell_type": "markdown",
   "metadata": {},
   "source": [
    "# Privacidad y ética de los Datos"
   ]
  },
  {
   "cell_type": "markdown",
   "metadata": {},
   "source": [
    "## ¿Qué son los Datos personales?\n",
    "\n",
    "Los datos personales son la información que permite identificar de una manera directa o indirecta a una persona. Existen muchos tipos de datos personales, por ejemplo:\n",
    "\n",
    "- Edad\n",
    "- Teléfono\n",
    "- Domicilio\n",
    "- Correo electrónico\n",
    "- Documento nacional de identidad\n",
    "- Número de seguridad social\n",
    "- Ingresos\n",
    "- Fecha de nacimiento\n",
    "\n",
    "La ciencia de datos es el campo de la ciencia que se ocupa del procesamiento y análisis de datos, para obtener información a partir de ellos con el fin de optimizar la toma de decisiones.\n",
    "\n",
    "<img src='https://static.platzi.com/media/user_upload/tipos-de-datos%20%281%29-a98c8378-a282-458d-ae7d-2af831e000dc.jpg' width=600>\n",
    "\n",
    "La profesional [Silvia Ariza Sentís](https://twitter.com/silari_?lang=es) va a realizar una exposición sobre el uso y manejo de datos, así como los principios éticos que lo regulan. La profesora Silvia es economista cuantitativa y tiene una maestría en ciencia de datos, con reconocida experiencia como científica de datos en múltiples sectores, tanto en España como en México, en el sector bancario y aerolíneas, así como la aplicación de tecnología en Uber y Nvidia.\n",
    "\n",
    "**¿Qué aprenderás en este curso?**\n",
    "\n",
    "En este curso vamos a hablar sobre diversos temas vinculados al uso y protección de datos, tales como:\n",
    "\n",
    "- Protección de datos personales\n",
    "- Protección de información\n",
    "- Normatividad\n",
    "- Uso adecuado de la información\n",
    "- Prevención de riesgos de fuga de información\n",
    "- Tipos de análisis de datos\n",
    "- Cómo los datos pueden ayudar para el bien de la sociedad\n",
    "- Otros\n",
    "\n",
    "**¿Para quién es este curso?**\n",
    "\n",
    "El curso está pensado para tres perfiles:\n",
    "\n",
    "- Personas expertas en análisis de datos que quieren implementar un conocimiento y reflexión ética en sus análisis.\n",
    "\n",
    "- Persona que todavía no sabe de inteligencia artificial y ciencia de datos, pero quiere recibir una introducción al conocimiento ético del manejo de datos para estar preparada cuando llegue a ser un experto en esas disciplinas.\n",
    "\n",
    "- Personas entusiastas de los cambios sociales a partir de los datos.\n",
    "\n",
    "En cualquiera de estos tres casos eres bienvenido a este curso. Tampoco se requiere ningún prerrequisito para entrar a este curso.\n",
    "\n",
    "### Clasificación de los datos personales\n",
    "\n",
    "Los datos identificados anteriormente algunos son directos, como por ejemplo el nombre, ya que nadie más lo va a tener; en cambio, los ingresos sería una identificación indirecta porque probablemente otras personas pueden tenerlos.\n",
    "\n",
    "Otra manera de clasificar los datos es en función a la importancia o riesgo de esta información. Esta clasificación tiene su fundamento en la importancia y cuidado que se debe tener en la preservación de la información.\n",
    "\n",
    "Es importante tener en cuenta que **hay datos que son únicos y otros que nos permiten identificar a múltiples personas**. Este aspecto es clave para definir cómo protegerla y cómo justificar a una empresa las razones que explican la recolección de esta información y el uso que se le va a dar.\n",
    "\n",
    "Según este tipo de jerarquía tenemos:\n",
    "\n",
    "**Datos ordinarios:** nombre, dirección y finanzas personales.\n",
    "\n",
    "**Datos sensibles:** Estos tienen un rigor especial a la hora de preservarlos y una justificación adicional para mostrar el uso que se le van a dar. Aquí se incluyen, por ejemplo: los datos sobre el origen étnico, las preferencias políticas y religiosas, así como la orientación sexual.\n",
    "\n",
    "Estos son datos muy específicos y personales, por tanto, tenemos el derecho de preservar. En consecuencia, cuando se suministran a una empresa, esta debe justificar por qué necesita esta información y de qué manera va a garantizar de que no haya una fuga de información.\n",
    "\n",
    "**Datos especiales:** Se refiere a los datos genéticos, biométricos o de salud. Estos datos ya no son el producto de una manifestación voluntaria de las personas, sino que se generan a través de un análisis clínico.\n",
    "\n",
    "### ¿Qué datos no son personales?\n",
    "\n",
    "Esta distinción es muy importante porque cuando estamos en una empresa trabajando con frecuencia van a surgir interrogantes sobre si determinados datos corresponden a información personal o no, ya que de esta situación depende el cuidado que se debe tener sobre ellos y los mecanismos para su análisis.\n",
    "\n",
    "Los datos que se consideran no personales son:\n",
    "\n",
    "- **Información anonimizada** En este caso se puede realizar un análisis porque su estudio no va a permitir identificar y poner en riesgo la identidad de un individuo.\n",
    "\n",
    "- **Datos de personas jurídicas o morales**, es decir de empresas o instituciones.\n",
    "\n",
    "- Información que no permita la identificación del individuo.\n",
    "\n",
    "### ¿En qué se diferencian los datos biométricos?\n",
    "\n",
    "A veces sucede que confundimos los datos biométricos con los datos personales. **Los datos biométricos son un tipo de datos personales.**\n",
    "\n",
    "Los datos biométricos **permiten identificar digitalmente a una persona**, por ejemplo:\n",
    "\n",
    "- Reconocimiento facial.\n",
    "- Reconocimiento de retina.\n",
    "- Reconocimiento vascular.\n",
    "- Reconocimiento de firma.\n",
    "- Reconocimiento de escritura.\n",
    "- Reconocimiento de voz.\n",
    "- Reconocimiento de escritura de teclado.\n",
    "- Clasificación de los datos biométricos\n",
    "\n",
    "**Los datos biométricos se clasifican de la siguiente manera:**\n",
    "\n",
    "1. Por su naturaleza:\n",
    "\n",
    "    - **Universal:** Son aquellos que compartimos con otras personas, por ejemplo, el grupo sanguíneo.\n",
    "\n",
    "    - **Único:** Por ejemplo, un análisis clínico, ya que solo le pertenecen a una persona.\n",
    "Permanente, por ejemplo la huella digital.\n",
    "\n",
    "2. Según sus características:\n",
    "\n",
    "    - **Rasgos físicos y fisiológicos:** Estos son los que podemos observar a simple vista: alto, bajo, delgado, etc.\n",
    "\n",
    "    -    **Rasgos de comportamiento y personalidad:** Estos implican un conocimiento más detallado de una persona y necesitan de más de una interacción para poder precisarlos, tales como si es alegre, inteligente, etc."
   ]
  },
  {
   "cell_type": "markdown",
   "metadata": {},
   "source": [
    "## Escándalos históricos de uso de información\n",
    "\n",
    "La fuga de datos es un problema que se ha acentuado en los últimos años, debido a las vulnerabilidades existentes en algunos sistemas y empresas responsables de custodiar la información de sus clientes.\n",
    "\n",
    "Sin embargo, este no es un problema nuevo. A lo largo de la historia existen experiencias importantes sobre esta situación. Estos escándalos históricos han servido como contexto para impulsar estrategias de protección de datos.\n",
    "\n",
    "Fuga de datos en Holanda 1940\n",
    "En el año 1940, en plena Segunda Guerra Mundial, el 1.5% de la población de Holanda era judía. Esta información fue recopilada mediante un censo y permanecía en los centros del país. El referido censo incluía información relacionada con nombres, apellidos, direcciones y origen de las personas.\n",
    "\n",
    "Los nazis se apoderaron de las bases de datos de este censo y pudieron saber quiénes de la población eran de origen judío. Aunque esta población judía había permanecido por muchos años en Holanda, y habían adoptado las tradiciones y costumbres de la población holandesa, no fue impedimento para que los nazis cometieran el asesinato del 75% de la población judía que residía en Holanda (aproximadamente 100.000 personas).\n",
    "\n",
    "Este fue un caso claro en el que la fuga de información conllevó a un delito. A partir de este acontecimiento histórico se empezó a poner especial relevancia a la recolección y custodia de la información.\n",
    "\n",
    "El caso de Holanda y los sucesos más recientes sobre la fuga de datos dan contexto a los temas éticos sobre el tratamiento de la información.\n",
    "\n",
    "Otros casos de fuga de datos\n",
    "Otro ejemplo más reciente es el caso de la fuga de información que experimentó el Instituto Nacional Electoral (INE) de México en el año 2016.\n",
    "\n",
    "Los datos personales que poseía el INE aparecieron en un repositorio S3 abierto de Amazon. Contenía nombres, apellidos y direcciones de la población mexicana. Esto no solamente sucedió en México, también ha ocurrido en Ecuador e India.\n",
    "\n",
    "Otros casos han sucedido en países de Asia, sin dejar de mencionar fugas de datos vinculadas al sector privado, como, por ejemplo, los eventos que afectaron a:\n",
    "\n",
    "3 mil millones de usuarios de Yahoo\n",
    "500 millones de clientes de Marriott\n",
    "533 millones de clientes de Facebook\n",
    "Todos estos eventos ponen en riesgo la confidencialidad de las personas.\n",
    "\n",
    "<img src='https://static.platzi.com/media/user_upload/privacidad-854bbaf4-a6ac-4cba-ad49-3c2825d68339.jpg' width='500'>"
   ]
  },
  {
   "cell_type": "markdown",
   "metadata": {},
   "source": [
    "## Interés creciente por la información\n",
    "\n",
    "La importancia de los datos para predecir eventos es impresionante y con la ayuda de los avances tecnológicos el interés por parte de las empresas y del Gobierno en recolectar información de las personas es cada vez mayor.\n",
    "\n",
    "Las empresas tienen más interés por los datos\n",
    "La capacidad de procesar datos ha venido aumentando aceleradamente en los últimos años. Este procesamiento de datos ya no se limita a las tablas tradicionales de Excel, sino que ahora también podemos procesar tablas de imágenes, sonidos, vídeos, etc.\n",
    "\n",
    "Eso ha hecho que las empresas y el sector público manifiesten un especial interés en los datos, ya que a través de estos se puede analizar cualquier aspecto que se encuentre en nuestro entorno.\n",
    "\n",
    "Es algo muy común que actualmente las empresas se preocupen por tener datos de sus clientes, desean saber por qué les compran, qué productos, a qué precio, medios de pago, edad y sexo de sus clientes, así como cualquier otra información.\n",
    "\n",
    "Toda transacción que hacemos se puede recolectar y se puede transformar en puntos de datos, la cual es registrada como filas y columnas de datos, tanto la información numérica como la categórica.\n",
    "\n",
    "Los límites de la información\n",
    "La capacidad de recolección de datos ha llegado a límites muy precisos. Por ejemplo, cuando escuchas una canción en Spotify, se lleva registro de qué canción se trata, cuándo la empezaste a escuchar, cuándo la paraste, quién era el cantante, la frecuencia con la que escuchas esa canción, si la has seleccionado como favorita, etc. Todo eso se convierte en información y es de especial interés para la empresa que está detrás.\n",
    "\n",
    "Las empresas se han dado cuenta de que la información recolectada les sirve para predecir y entender a sus usuarios, por qué consumen determinados productos y cuándo lo van a consumir en el futuro. Esto le ha dado un gran valor a la información. Por este motivo se han preocupado para seguir recolectando, procesando y analizando datos con el fin de predecir con fundamento a esta información.\n",
    "\n",
    "El interés por la recolección de datos ha hecho posible la implementación de herramientas y mecanismos cada vez más eficientes, que permiten que este proceso de recolección sea cada vez más económico.\n",
    "\n",
    "Necesidad de crear regulaciones\n",
    "En general, cada vez hay mayores **incentivos** por tener acceso a la información. Este interés no solo es característico del sector privado, pues, el sector público también ha mostrado interés por ello. En consecuencia, la necesidad de **regular** este proceso es cada vez más urgente.\n",
    "\n",
    "La regulación de uso comprende mecanismos para controlar aspectos como el volumen máximo de información que puede tener una empresa, qué tipo de información puede recolectar, pues, las empresas no pueden recolectar la información por gusto, deben tener una explicación para ello, así como justificar el uso que le darán a esta información.\n",
    "\n",
    "Todos estos factores han ido sentando las bases para crear normativas al respecto, dado que las personas necesitan garantías para que sus derechos no sean vulnerados.\n",
    "\n",
    "La importancia de los datos ha originado que algunas empresas incurran en actividades ilícitas al **comprar** o **vender** datos. Por este motivo, es urgente que los gobiernos impulsen la creación de normas para regular las actividades inherentes al menejo de los datos.\n",
    "\n",
    "El mercado ilícito de datos se mueve con considerable dinamismo en las redes. Por ejemplo, empresas de viajes pueden comprar datos de personas que han buscado recientemente información sobre París, porque probablemente esta persona está interesada en viajar a París, de esta manera la empresa trata de ofrecer promociones de viaje a esas personas. Sin embargo, esta práctica de compra de bases de datos está empezando a ser penalizada."
   ]
  },
  {
   "cell_type": "markdown",
   "metadata": {},
   "source": [
    "## Bias y GIGO en Datos\n",
    "\n",
    "### Bias o sesgo\n",
    "\n",
    "En otras palabras, el sesgo se origina cuando se selecciona la información de manera errónea y se considera una **muestra que no representa la totalidad de la población.** En este caso, la muestra aleatoria no es representativa.\n",
    "\n",
    "Esta situación ha sucedido en ejemplos prácticos sobre todo en reconocimiento facial. Históricamente las empresas que se han dedicado al reconocimiento facial han tenido más muestras de personas blancas que de personas de piel oscura, por tal motivo se ha creado un sesgo. Eso pone en riesgo la información, porque no podemos identificar a una población importante dentro del mundo.\n",
    "\n",
    "[Coded Bias](https://www.imdb.com/video/vi181780761/?playlistId=tt11394170&ref_=tt_pr_ov_vi)\n",
    "\n",
    "### Garbage in Garbage out (GIGO)\n",
    "\n",
    "De otro modo, la expresión **GIGO** significa “basura entra, basura sale”. Esta frase se fundamenta en el principio que dice “la calidad del resultado (output) depende de la calidad de la entrada (input)”.\n",
    "\n",
    "Si no tenemos una fuente confiable para obtener nuestros datos, estos no van a permitir una conclusión relevante o fidedigna. Por lo tanto, se precisa recolectar un buen input para tener un buen output.\n",
    "\n",
    "### Otros tipos de sesgos \n",
    "\n",
    "- Aversión a la pérdida\n",
    "- Efecto Forer\n",
    "- Sesgo de confirmación\n",
    "- Sesgo retrospectivo\n",
    "- Sesgo del punto ciego\n",
    "- Sesgo de disponibilidad"
   ]
  },
  {
   "cell_type": "markdown",
   "metadata": {},
   "source": [
    "## Advertencias de uso en marketing\n",
    "\n",
    "Se puede crear publicidad personalizada pero debe considerarse lo siguiente en cuanto lo que respecta advertencias… (Es necesario usar la data con responsabilidad y ética)\n",
    "\n",
    "- Evitar Sesgos discriminatorios: \n",
    "- Evitar la manipulación de precios: \n",
    "- Evitar la manipulación de campañas políticas.\n",
    "- Evitar fomentar conductas violentas, adictivas o ataques emocionales\n",
    "\n",
    "Te invito a ver el documental que se llama The Social Dilemma o El dilema social, donde se expone este problema.\n",
    "\n",
    "<img src='https://cdn.document360.io/da52b302-22aa-4a71-9908-ba18e68ffee7/Images/Documentation/image%28423%29.png' width='400'>"
   ]
  },
  {
   "cell_type": "markdown",
   "metadata": {},
   "source": [
    "## Advertencias de uso en campañas políticas\n",
    "\n",
    "Cambridge Analytica ofrecia a negocios y partidos politicos la posibilidad de cambiar/manipular el comportamiento de la audiencia\n",
    "\n",
    "- Datos propios a partir de encuestas.\n",
    "- Datos de redes como Facebook/\n",
    "- Ciencia del comportamiento y modelos predictivos\n",
    "\n",
    "Se identificaron personas que podrian ser targets de campanas de marketing para incidir en sus preferencias políticas.\n",
    "\n",
    "Una pelicula recomendada es The Great Hack\n",
    "\n",
    "<img src='https://m.media-amazon.com/images/M/MV5BMGViZWEwOGItMGZlMC00YzE1LTk5ZWItMGYxYjhhMjBmNDMwXkEyXkFqcGdeQXVyNDg4NjY5OTQ@._V1_.jpg' width='400'>\n"
   ]
  },
  {
   "cell_type": "markdown",
   "metadata": {},
   "source": [
    "## Reglamentos\n",
    "\n",
    "### Legislación de proteccion de datos personales por país.\n",
    "- Ley de protección de datos personales (Ley 29733 -**Perú**). .\n",
    "- Ley de protección a la vida privada (Ley N°19.628 - **Chile**).\n",
    "- Ley de protección de datos (Ley 1581 - **Colombia**)\n",
    "- Ley de protección de datos personales en posesión de sujetos obligados (**México**)\n",
    "- Ley de Protección de Datos Personales (Ley 25326 - **Argentina**)\n",
    "- Ley Orgánica de Protección de Datos de **Ecuador**\n",
    "- Ley de Protección de datos personales y acción de habeas data (Ley 18331 - **Uruguay**)\n",
    "- Ley de Protección de los datos personales (Ley 25.326 - **Paraguay**)\n",
    "- Reglamento General de Protección de Datos (**Europa**)\n",
    "- Venezuela no posee legislación específica en materia de protección de datos"
   ]
  },
  {
   "cell_type": "markdown",
   "metadata": {},
   "source": [
    "# Retos éticos en la actualidad\n"
   ]
  },
  {
   "cell_type": "markdown",
   "metadata": {},
   "source": [
    "## Ética y deep learning: vehículos autónomos\n",
    "\n",
    "Los vehículos autónomos son automóviles capaces de imitar las capacidades de los seres humanos de conducir. Su tecnología está diseñada para hacer un reconocimiento de las imágenes que capta de su entorno a través técnicas complejas, sistemas de posicionamiento y visión computarizada. De esa manera el vehículo tiene dos órdenes: seguir avanzando o detener la marcha.\n",
    "\n",
    "Esta innovación existe gracias al esfuerzo de grandes empresas como por ejemplo Tesla. Sin embargo, todavía no la vemos en las calles aun cuando muchas empresas ya están apostando por esta tecnología.\n",
    "\n",
    "Los principales obstáculos que ha enfrentado esta tecnología es el referido a dilemas éticos que se fundamentan en la posibilidad de que su código sufra algún daño o que sea corrompido.\n",
    "\n",
    "Cómo funcionan los vehículos autónomos\n",
    "Estos vehículos poseen un código binario que toma acciones en función de continuar la marcha o detenerse. El temor a cualquier daño en su código, ataques cibernéticos o cualquier funcionamiento irregular ha detenido la puesta de vehículos autónomos en las calles.\n",
    "\n",
    "No obstante, los datos demuestran que esta tecnología es más segura que la capacidad humana para conducir autos.\n",
    "\n",
    "Las posibilidades de que una persona infrinja la ley, experimente reacciones emocionales y cualquier efecto que podemos tener como seres humanos son más propensos a causar accidentes automovilísticos que los autos inteligentes. Pero, persisten dilemas éticos que han impedido disfrutar de esta tecnología."
   ]
  },
  {
   "cell_type": "markdown",
   "metadata": {},
   "source": [
    "## Ética y deep learning: reconocimiento facial\n",
    "\n",
    "El reconocimiento facial se refiere al reconocimiento o identificación de la identidad de una persona mediante su rostro basada en datos biométricos. Estos datos son del rostro completo o de una imagen parcial del rostro como la retina del ojo.\n",
    "\n",
    "Esta tecnología se apoya en el reconocimiento de vectores que identifican los rasgos de una persona. Este tipo de tecnología se desarrolló con el objetivo de acceder a espacios físicos con más comodidad, por ejemplo, gimnasios, a tu espacio de trabajo, universidades u otro sitio, con la idea de que no tengas que portar un gafete ni ningún otro identificador para tener acceso a estos lugares.\n",
    "\n",
    "Sin duda esta tecnología tiene sus beneficios, sin embargo, debes detenerte a pensar que estás ofreciendo datos biométricos únicos de tu rostro y un mal uso de esta información puede significar una vulnerabilidad a tus datos sin dejar de mencionar los riesgos de una fuga de información.\n",
    "\n",
    "Como usuario tienes el derecho de decidir a quién otorgarle tus datos biométricos. Por ejemplo, debes tener la opción de decidir si prefieres llevar tu gafete u otro instrumento de identificación para tener acceso a los partes donde te lo exijan. Es una decisión totalmente personal, de tal manera que puedas determinar a quién otorgarlo y a quiénes no.\n",
    "\n",
    "También es importante que los expertos en tecnología cuando hagan un desarrollo tienen que reflexionar desde el punto de vista del usuario y evaluar si es ético solicitar este tipo de datos, si en realidad se justifica y especialmente cómo vas a proteger esta información.\n",
    "\n",
    "- **Ejemplos de reconocimiento facial:**\n",
    "\n",
    "Cada vez existen más aplicaciones móviles que funcionan a partir del reconocimiento facial, lo cual está supliendo la acción de escribir una contraseña; sin embargo, debes pensar a qué empresa se lo estás otorgando.\n",
    "\n",
    "Probablemente, para el caso del acceso a tu móvil no sientas que haya mayores implicaciones; pero, cuando se trata de una aplicación bancaria donde los datos son muy sensibles y que probablemente no accedas todos los días, te puedes plantear la idea de reconsiderar esta modalidad del reconocimiento facial.\n",
    "\n",
    "En algunos países como México se están introduciendo leyes para garantizar y proteger el uso de estos datos biométricos.\n",
    "\n",
    "También se están planteando los modelos híbridos en el que solamente haces la validación final, de manera que tú otorgas el reconocimiento facial, pero en una fase previa utilizas la modalidad de contraseñas.\n",
    "\n",
    "<img src='https://static.platzi.com/media/user_upload/recnoncimeinti-816b9c99-2b47-44d1-b79a-5357c0bfcef7.jpg' width='400'>\n"
   ]
  },
  {
   "cell_type": "markdown",
   "metadata": {},
   "source": [
    "## Ética con Datos en la pandemia\n",
    "\n",
    "Otro dilema ético relacionado con los datos es probablemente el que se originó con la pandemia covid-19. Esta crisis sanitaria significó un reto para todos los recolectores de datos, los gobiernos y los ciudadanos.\n",
    "\n",
    "Estrategias restrictivas\n",
    "Algunos gobiernos han actuado de una manera más restrictiva y otros han actuado de una manera más abierta.\n",
    "\n",
    "- Restricción del acceso entre países y visitas intermunicipales\n",
    "- Exigencia de vacunas y pruebas de antígenos\n",
    "- Controles a partir de bases de datos del aforo limitado de sitios públicos\n",
    "- Políticas de cuarentena forzosa (algunas más estrictas que otras)\n",
    "- Cuarentena forzosa (en algunos casos más estrictas que otros)\n",
    "\n",
    "**Proceso de detección covid-19 en España**\n",
    "\n",
    "En el caso de España, por ejemplo, en el momento cuando una persona era diagnosticada con covid-19 tenía que llamar a un teléfono público y notificar sobre su infección.\n",
    "\n",
    "1. Se realizaba un rastreo a las personas de las personas con las que el enfermo había estado en contacto\n",
    "1. Se monitoreaba su caso durante una cuarentena forzosa\n",
    "1. Aleatoriamente, recibía llamadas para saber cómo se sentía y para determinar si estaba respetando el aislamiento en su casa\n",
    "\n",
    "La pandemia ha sido un reto para todos y todas y no hay todavía un establecimiento nacional o internacional que haya fijado **pautas para la recolección de datos**. A nivel mundial cada país tiene sus propios mecanismos y políticas para enfrentar la pandemia."
   ]
  },
  {
   "cell_type": "markdown",
   "metadata": {},
   "source": [
    "## Ética en las relaciones interpersonales\n"
   ]
  },
  {
   "cell_type": "markdown",
   "metadata": {},
   "source": [
    "## Ética y Procesamiento de Lenguaje Natural (NLP)\n"
   ]
  },
  {
   "cell_type": "markdown",
   "metadata": {},
   "source": [
    "## Quiz: Retos éticos en la actualidad\n"
   ]
  },
  {
   "cell_type": "markdown",
   "metadata": {},
   "source": [
    "# Data for good\n"
   ]
  },
  {
   "cell_type": "markdown",
   "metadata": {},
   "source": [
    "## ¿Qué son las políticas públicas?"
   ]
  },
  {
   "cell_type": "markdown",
   "metadata": {},
   "source": [
    "## Datos y prevención de crímenes\n"
   ]
  },
  {
   "cell_type": "markdown",
   "metadata": {},
   "source": [
    "## Datos y salud\n"
   ]
  },
  {
   "cell_type": "markdown",
   "metadata": {},
   "source": [
    "## Datos y movilidad\n"
   ]
  },
  {
   "cell_type": "markdown",
   "metadata": {},
   "source": [
    "## Datos y educación\n"
   ]
  },
  {
   "cell_type": "markdown",
   "metadata": {},
   "source": [
    "## Datos y medio ambiente\n"
   ]
  },
  {
   "cell_type": "markdown",
   "metadata": {},
   "source": [
    "# Cierre\n"
   ]
  },
  {
   "cell_type": "markdown",
   "metadata": {},
   "source": [
    "## Conclusiones y reflexiones"
   ]
  }
 ],
 "metadata": {
  "language_info": {
   "name": "python"
  },
  "orig_nbformat": 4
 },
 "nbformat": 4,
 "nbformat_minor": 2
}
